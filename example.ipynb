{
 "cells": [
  {
   "cell_type": "code",
   "execution_count": null,
   "metadata": {},
   "outputs": [
    {
     "name": "stdout",
     "output_type": "stream",
     "text": [
      "Loading training data from pickled files...\n"
     ]
    }
   ],
   "source": [
    "from QSNMC.tests import tests"
   ]
  },
  {
   "cell_type": "code",
   "execution_count": 2,
   "metadata": {},
   "outputs": [],
   "source": [
    "from QSNMC.models import models"
   ]
  },
  {
   "cell_type": "code",
   "execution_count": 3,
   "metadata": {},
   "outputs": [
    {
     "name": "stdout",
     "output_type": "stream",
     "text": [
      "[Test on Training Data (SpikeTrainComparisonTest)]\n"
     ]
    }
   ],
   "source": [
    "print tests"
   ]
  },
  {
   "cell_type": "code",
   "execution_count": 4,
   "metadata": {},
   "outputs": [
    {
     "name": "stdout",
     "output_type": "stream",
     "text": [
      "[LIF Example (LIFModel)]\n"
     ]
    }
   ],
   "source": [
    "print models"
   ]
  },
  {
   "cell_type": "code",
   "execution_count": 5,
   "metadata": {},
   "outputs": [
    {
     "name": "stdout",
     "output_type": "stream",
     "text": [
      "Model: LIF Example (LIFModel)\n",
      "Test: Test on Training Data (SpikeTrainComparisonTest)\n",
      "Simulating current injection...\n",
      "Computing Md* - Rectangular window (1.0 ms precision)..."
     ]
    },
    {
     "name": "stdout",
     "output_type": "stream",
     "text": [
      "\n",
      "Md* = 0.9576"
     ]
    },
    {
     "name": "stdout",
     "output_type": "stream",
     "text": [
      "\n",
      "=== Model LIF Example (LIFModel) achieved score 95.8% on test 'Test on Training Data (SpikeTrainComparisonTest)'. ===\n",
      "\r\n"
     ]
    }
   ],
   "source": [
    "for model in models:\n",
    "    print \"Model: %s\" % model\n",
    "    for test in tests:\n",
    "        print \"Test: %s\" % test\n",
    "        score = test.judge(model,deep_error=True)\n",
    "        score.summarize()\n",
    "        print \"\\r\""
   ]
  }
 ],
 "metadata": {
  "name": "",
  "signature": "sha256:6c9623f388ffd5bca4b6bd5dd4cc1a670cd0e5b5771fd593717619bcf51734c0"
 },
 "nbformat": 4,
 "nbformat_minor": 0
}
