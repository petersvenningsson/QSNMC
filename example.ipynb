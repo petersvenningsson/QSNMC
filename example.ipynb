{
 "worksheets": [
  {
   "cells": [
    {
     "cell_type": "code",
     "execution_count": null,
     "metadata": {},
     "outputs": [
      {
       "stream": "stdout",
       "output_type": "stream",
       "text": [
        "Loading training data from pickled files...\n"
       ]
      }
     ],
     "input": [
      "from QSNMC.tests import tests"
     ],
     "language": "python"
    },
    {
     "cell_type": "code",
     "execution_count": null,
     "metadata": {},
     "outputs": [],
     "input": [
      "from QSNMC.models import models"
     ],
     "language": "python",
     "prompt_number": 2
    },
    {
     "cell_type": "code",
     "execution_count": null,
     "metadata": {},
     "outputs": [
      {
       "stream": "stdout",
       "output_type": "stream",
       "text": [
        "[Test on Training Data (SpikeTrainComparisonTest)]\n"
       ]
      }
     ],
     "input": [
      "print tests"
     ],
     "language": "python",
     "prompt_number": 3
    },
    {
     "cell_type": "code",
     "execution_count": null,
     "metadata": {},
     "outputs": [
      {
       "stream": "stdout",
       "output_type": "stream",
       "text": [
        "[LIF Example (LIFModel)]\n"
       ]
      }
     ],
     "input": [
      "print models"
     ],
     "language": "python",
     "prompt_number": 4
    },
    {
     "cell_type": "code",
     "execution_count": null,
     "metadata": {},
     "outputs": [
      {
       "stream": "stdout",
       "output_type": "stream",
       "text": [
        "Model: LIF Example (LIFModel)\n",
        "Test: Test on Training Data (SpikeTrainComparisonTest)\n",
        "Simulating current injection...\n",
        "Computing Md* - Rectangular window (1.0 ms precision)..."
       ]
      },
      {
       "stream": "stdout",
       "output_type": "stream",
       "text": [
        "\n",
        "Md* = 0.9576"
       ]
      },
      {
       "stream": "stdout",
       "output_type": "stream",
       "text": [
        "\n",
        "=== Model LIF Example (LIFModel) achieved score 95.8% on test 'Test on Training Data (SpikeTrainComparisonTest)'. ===\n",
        "\r\n"
       ]
      }
     ],
     "input": [
      "for model in models:\n",
      "    print \"Model: %s\" % model\n",
      "    for test in tests:\n",
      "        print \"Test: %s\" % test\n",
      "        score = test.judge(model,deep_error=True)\n",
      "        score.summarize()\n",
      "        print \"\\r\""
     ],
     "language": "python",
     "prompt_number": 5
    }
   ]
  }
 ],
 "cells": [],
 "metadata": {
  "name": "",
  "signature": "sha256:6c9623f388ffd5bca4b6bd5dd4cc1a670cd0e5b5771fd593717619bcf51734c0"
 },
 "nbformat": 4,
 "nbformat_minor": 0
}
